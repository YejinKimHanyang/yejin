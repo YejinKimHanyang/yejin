{
 "cells": [
  {
   "cell_type": "code",
   "execution_count": 1,
   "metadata": {},
   "outputs": [],
   "source": [
    "import requests\n",
    "import json\n",
    "import pandas as pd\n",
    "import folium"
   ]
  },
  {
   "cell_type": "code",
   "execution_count": 2,
   "metadata": {},
   "outputs": [],
   "source": [
    "def get_json(sido_code):\n",
    "    body = {\n",
    "        'ins_lat': '37.56682',\n",
    "        'ins_lng': '126.97865', \n",
    "        \n",
    "        'p_sido_cd': '{}'.format(sido_code if sido_code > 9 else \"0{}\".format(sido_code)),\n",
    "        'p_gugun_cd': '',\n",
    "        'in_biz_cd': '',\n",
    "        'set_date': '', \n",
    "        'searchType': 'C',\n",
    "        'all_store': 1,\n",
    "        'iend': '1000',\n",
    "        \n",
    "    }\n",
    "    url = 'https://www.starbucks.co.kr/store/getStore.do'\n",
    "    r = requests.post(url, data=body)\n",
    "    \n",
    "    return json.loads(r.text)"
   ]
  },
  {
   "cell_type": "code",
   "execution_count": 3,
   "metadata": {},
   "outputs": [],
   "source": [
    "if __name__ ==\"__main__\":\n",
    "    df = None\n",
    "    \n",
    "    for area in range(1,18):\n",
    "        jo = get_json(area)\n",
    "        \n",
    "        if df is None:\n",
    "            df = pd.json_normalize(jo, 'list')\n",
    "        else:\n",
    "            area_df = pd.json_normalize(jo, 'list')\n",
    "            df = df.append(other= area_df, ignore_index=True, sort=False)\n",
    "    \n",
    "    df= df.astype({'lat': 'float', 'lot': 'float', 's_code': 'int'})\n",
    "    df= df[['s_code', 's_name', 'sido_name', 'lat', 'lot']]\n",
    "    df = df.sort_values(by=\"s_code\")\n",
    "\n",
    "    df"
   ]
  },
  {
   "cell_type": "code",
   "execution_count": null,
   "metadata": {},
   "outputs": [],
   "source": [
    "map_osm = folium.Map(location=[36,127], zoom_start=7)\n",
    "\n",
    "for index, row in df.iterrows():\n",
    "    location = (row['lat'], row['lot'])\n",
    "    folium.Marker(location, popup= row['s_name']).add_to(map_osm)"
   ]
  }
 ],
 "metadata": {
  "kernelspec": {
   "display_name": "Python 3",
   "language": "python",
   "name": "python3"
  },
  "language_info": {
   "codemirror_mode": {
    "name": "ipython",
    "version": 3
   },
   "file_extension": ".py",
   "mimetype": "text/x-python",
   "name": "python",
   "nbconvert_exporter": "python",
   "pygments_lexer": "ipython3",
   "version": "3.7.6"
  }
 },
 "nbformat": 4,
 "nbformat_minor": 4
}
